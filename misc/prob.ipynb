{
 "cells": [
  {
   "cell_type": "code",
   "execution_count": 9,
   "metadata": {},
   "outputs": [
    {
     "name": "stdout",
     "output_type": "stream",
     "text": [
      " Sum of Cubes Problem \n"
     ]
    }
   ],
   "source": [
    "print(\" Sum of Cubes Problem \")\n",
    "import numpy as np "
   ]
  },
  {
   "cell_type": "code",
   "execution_count": 10,
   "metadata": {},
   "outputs": [
    {
     "data": {
      "text/plain": [
       "3"
      ]
     },
     "execution_count": 10,
     "metadata": {},
     "output_type": "execute_result"
    }
   ],
   "source": [
    "569936821221962380720**3 - 569936821113563493509**3 - 472715493453327032**3"
   ]
  },
  {
   "cell_type": "code",
   "execution_count": 11,
   "metadata": {},
   "outputs": [
    {
     "name": "stdout",
     "output_type": "stream",
     "text": [
      "-4 -3 5\n",
      "-4 5 -3\n",
      "-3 -4 5\n",
      "-3 5 -4\n",
      "-1 2 3\n",
      "-1 3 2\n",
      "2 -1 3\n",
      "2 3 -1\n",
      "3 -1 2\n",
      "3 2 -1\n",
      "5 -4 -3\n",
      "5 -3 -4\n"
     ]
    }
   ],
   "source": [
    "for i in np.arange(-99, 99):\n",
    "    for j in np.arange(-99, 99):\n",
    "        for k in np.arange(-99, 99):\n",
    "            if (i**3+j**3+k**3 == 34)and(i!=j)and(j!=k)and(k!=i):\n",
    "                print(i,j,k)\n",
    "                break"
   ]
  },
  {
   "cell_type": "code",
   "execution_count": 12,
   "metadata": {},
   "outputs": [
    {
     "name": "stdout",
     "output_type": "stream",
     "text": [
      "-4 -3 5\n",
      "-4 5 -3\n",
      "-3 -4 5\n",
      "-3 5 -4\n",
      "-1 2 3\n",
      "-1 3 2\n",
      "2 -1 3\n",
      "2 3 -1\n",
      "3 -1 2\n",
      "3 2 -1\n",
      "5 -4 -3\n",
      "5 -3 -4\n"
     ]
    }
   ],
   "source": [
    "for i in range(-99, 99):\n",
    "    for j in range(-99, 99):\n",
    "        for k in range(-99, 99):\n",
    "            if (i**3+j**3+k**3 == 34)and(i!=j)and(j!=k)and(k!=i):\n",
    "                print(i,j,k)\n",
    "                break"
   ]
  },
  {
   "cell_type": "code",
   "execution_count": 13,
   "metadata": {},
   "outputs": [
    {
     "name": "stdout",
     "output_type": "stream",
     "text": [
      "-58 -43 65\n",
      "-58 65 -43\n",
      "-43 -58 65\n",
      "-43 65 -58\n",
      "65 -58 -43\n",
      "65 -43 -58\n"
     ]
    }
   ],
   "source": [
    "for i in range(-99, 99):\n",
    "    for j in range(-99, 99):\n",
    "        for k in range(-99, 99):\n",
    "            if (i**3+j**3+k**3 == 6)and(i!=j)and(j!=k)and(k!=i):\n",
    "                print(i,j,k)\n",
    "                break"
   ]
  },
  {
   "cell_type": "code",
   "execution_count": 14,
   "metadata": {},
   "outputs": [],
   "source": [
    "# for i in np.arange(-999, 999):\n",
    "#     for j in np.arange(-999, 999):\n",
    "#         for k in np.arange(-999, 999):\n",
    "#             if (i**3+j**3+k**3 == 2)and(i!=j)and(j!=k)and(k!=i):\n",
    "#                 print(i,j,k)\n",
    "#                 break"
   ]
  },
  {
   "cell_type": "code",
   "execution_count": null,
   "metadata": {},
   "outputs": [],
   "source": []
  }
 ],
 "metadata": {
  "interpreter": {
   "hash": "26de051ba29f2982a8de78e945f0abaf191376122a1563185a90213a26c5da77"
  },
  "kernelspec": {
   "display_name": "Python 3.10.1 64-bit",
   "language": "python",
   "name": "python3"
  },
  "language_info": {
   "codemirror_mode": {
    "name": "ipython",
    "version": 3
   },
   "file_extension": ".py",
   "mimetype": "text/x-python",
   "name": "python",
   "nbconvert_exporter": "python",
   "pygments_lexer": "ipython3",
   "version": "3.10.1"
  },
  "orig_nbformat": 4
 },
 "nbformat": 4,
 "nbformat_minor": 2
}
